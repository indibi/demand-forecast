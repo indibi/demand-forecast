{
 "cells": [
  {
   "cell_type": "code",
   "execution_count": 1,
   "metadata": {},
   "outputs": [
    {
     "name": "stdout",
     "output_type": "stream",
     "text": [
      "Loading precomputed graph from C:\\Users\\merti\\OneDrive - Michigan State University\\CSE 881 - Data Mining\\DemandForecastingProject\\data\\taxi_zones\\precomputed_graphs\\G_nyc_3ec450e2f75c938546192cae174c0cb4.graphml\n",
      "Graph already exists at C:\\Users\\merti\\OneDrive - Michigan State University\\CSE 881 - Data Mining\\DemandForecastingProject\\data\\taxi_zones\\precomputed_graphs\\G_nyc_3ec450e2f75c938546192cae174c0cb4.graphml. Did not overwrite.\n"
     ]
    }
   ],
   "source": [
    "from pathlib import Path\n",
    "import sys, os\n",
    "module_path = os.path.abspath(os.path.join('..'))\n",
    "if module_path not in sys.path:\n",
    "    sys.path.append(module_path)\n",
    "\n",
    "import numpy as np\n",
    "import pandas as pd\n",
    "import matplotlib.pyplot as plt\n",
    "\n",
    "from src.utils.nyc_taxi_zones import TaxiZones, plot_zones\n",
    "from src.utils.nyc_trip_loader import NYCTripData\n",
    "\n",
    "BASE_DIR = Path.cwd().parent\n",
    "DATA_DIR = BASE_DIR / 'data'\n",
    "YELLOW_DIR = DATA_DIR / 'yellow_taxi_trip_records'\n",
    "GREEN_DIR = DATA_DIR / 'green_taxi_trip_records'\n",
    "FHV_DIR = DATA_DIR / 'for_hire_vehicle_trip_records'\n",
    "OUTPUT_DIR = BASE_DIR / 'output'"
   ]
  },
  {
   "cell_type": "code",
   "execution_count": 15,
   "metadata": {},
   "outputs": [
    {
     "name": "stderr",
     "output_type": "stream",
     "text": [
      "Processing monthly records: 12it [00:19,  1.61s/it]\n",
      "c:\\Users\\merti\\OneDrive - Michigan State University\\CSE 881 - Data Mining\\DemandForecastingProject\\src\\utils\\nyc_trip_loader.py:162: FutureWarning: DataFrame.fillna with 'method' is deprecated and will raise in a future version. Use obj.ffill() or obj.bfill() instead.\n",
      "  weather_data.fillna(method='ffill', inplace=True)\n"
     ]
    },
    {
     "name": "stdout",
     "output_type": "stream",
     "text": [
      "Saving the trip data to C:\\Users\\merti\\OneDrive - Michigan State University\\CSE 881 - Data Mining\\DemandForecastingProject\\data\\yellow_2023-01_2023-12_h.parquet\n"
     ]
    }
   ],
   "source": [
    "nyc_trip_data = NYCTripData('2023-01','2023-12')"
   ]
  },
  {
   "cell_type": "code",
   "execution_count": 4,
   "metadata": {},
   "outputs": [
    {
     "data": {
      "text/plain": [
       "(263, 744, 18)"
      ]
     },
     "execution_count": 4,
     "metadata": {},
     "output_type": "execute_result"
    }
   ],
   "source": [
    "nyc_trip_data.trip_data.shape"
   ]
  },
  {
   "cell_type": "code",
   "execution_count": 5,
   "metadata": {},
   "outputs": [
    {
     "name": "stderr",
     "output_type": "stream",
     "text": [
      "Processing monthly records: 2it [00:03,  1.62s/it]\n",
      "c:\\Users\\merti\\OneDrive - Michigan State University\\CSE 881 - Data Mining\\DemandForecastingProject\\src\\utils\\nyc_trip_loader.py:162: FutureWarning: DataFrame.fillna with 'method' is deprecated and will raise in a future version. Use obj.ffill() or obj.bfill() instead.\n",
      "  weather_data.fillna(method='ffill', inplace=True)\n"
     ]
    }
   ],
   "source": [
    "manhattan_trip_data = NYCTripData('2023-01','2023-02',\n",
    "                    taxi_zones=TaxiZones(boroughs=['Manhattan']),\n",
    "                    save=False)"
   ]
  },
  {
   "cell_type": "code",
   "execution_count": 14,
   "metadata": {},
   "outputs": [
    {
     "name": "stdout",
     "output_type": "stream",
     "text": [
      "Index(['PULocationID', 'hour', 'dayofweek', 'dayofyear', 'month', 'quarter',\n",
      "       'x', 'y', 'feels_like', 'wind_speed', 'wind_gust', 'weather_main_Clear',\n",
      "       'weather_main_Clouds', 'weather_main_Haze', 'weather_main_Mist',\n",
      "       'weather_main_Rain', 'weather_main_Snow', 'PU_count'],\n",
      "      dtype='object')\n",
      "(69, 1416, 18)\n"
     ]
    },
    {
     "data": {
      "text/plain": [
       "array([[[4, 0, 6, ..., True, False, 19],\n",
       "        [4, 1, 6, ..., False, False, 28],\n",
       "        [4, 2, 6, ..., False, False, 43],\n",
       "        ...,\n",
       "        [4, 21, 1, ..., True, False, 1],\n",
       "        [4, 22, 1, ..., True, False, 4],\n",
       "        [4, 23, 1, ..., True, False, 3]],\n",
       "\n",
       "       [[12, 0, 6, ..., True, False, 1],\n",
       "        [12, 1, 6, ..., False, False, 1],\n",
       "        [12, 2, 6, ..., False, False, 0],\n",
       "        ...,\n",
       "        [12, 21, 1, ..., True, False, 0],\n",
       "        [12, 22, 1, ..., True, False, 0],\n",
       "        [12, 23, 1, ..., True, False, 0]],\n",
       "\n",
       "       [[13, 0, 6, ..., True, False, 14],\n",
       "        [13, 1, 6, ..., False, False, 18],\n",
       "        [13, 2, 6, ..., False, False, 11],\n",
       "        ...,\n",
       "        [13, 21, 1, ..., True, False, 25],\n",
       "        [13, 22, 1, ..., True, False, 9],\n",
       "        [13, 23, 1, ..., True, False, 2]],\n",
       "\n",
       "       ...,\n",
       "\n",
       "       [[261, 0, 6, ..., True, False, 13],\n",
       "        [261, 1, 6, ..., False, False, 21],\n",
       "        [261, 2, 6, ..., False, False, 31],\n",
       "        ...,\n",
       "        [261, 21, 1, ..., True, False, 9],\n",
       "        [261, 22, 1, ..., True, False, 12],\n",
       "        [261, 23, 1, ..., True, False, 15]],\n",
       "\n",
       "       [[262, 0, 6, ..., True, False, 66],\n",
       "        [262, 1, 6, ..., False, False, 51],\n",
       "        [262, 2, 6, ..., False, False, 28],\n",
       "        ...,\n",
       "        [262, 21, 1, ..., True, False, 23],\n",
       "        [262, 22, 1, ..., True, False, 17],\n",
       "        [262, 23, 1, ..., True, False, 11]],\n",
       "\n",
       "       [[263, 0, 6, ..., True, False, 212],\n",
       "        [263, 1, 6, ..., False, False, 242],\n",
       "        [263, 2, 6, ..., False, False, 188],\n",
       "        ...,\n",
       "        [263, 21, 1, ..., True, False, 75],\n",
       "        [263, 22, 1, ..., True, False, 57],\n",
       "        [263, 23, 1, ..., True, False, 32]]], dtype=object)"
      ]
     },
     "execution_count": 14,
     "metadata": {},
     "output_type": "execute_result"
    }
   ],
   "source": [
    "print(manhattan_trip_data.feature_names)\n",
    "print(manhattan_trip_data.trip_data.shape)\n",
    "manhattan_trip_data.trip_data\n"
   ]
  },
  {
   "cell_type": "code",
   "execution_count": 19,
   "metadata": {},
   "outputs": [
    {
     "data": {
      "text/plain": [
       "array([[[6.424036618987506, 1.3289456258255976, 283.59],\n",
       "        [6.424036618987506, 1.3289456258255976, 283.91],\n",
       "        [6.424036618987506, 1.3289456258255976, 283.47],\n",
       "        ...,\n",
       "        [6.424036618987506, 1.3289456258255976, 273.49],\n",
       "        [6.424036618987506, 1.3289456258255976, 273.43],\n",
       "        [6.424036618987506, 1.3289456258255976, 272.34]],\n",
       "\n",
       "       [[6.354654409604523, 1.2793077933444346, 283.59],\n",
       "        [6.354654409604523, 1.2793077933444346, 283.91],\n",
       "        [6.354654409604523, 1.2793077933444346, 283.47],\n",
       "        ...,\n",
       "        [6.354654409604523, 1.2793077933444346, 273.49],\n",
       "        [6.354654409604523, 1.2793077933444346, 273.43],\n",
       "        [6.354654409604523, 1.2793077933444346, 272.34]],\n",
       "\n",
       "       [[6.353730980902023, 1.30099781596117, 283.59],\n",
       "        [6.353730980902023, 1.30099781596117, 283.91],\n",
       "        [6.353730980902023, 1.30099781596117, 283.47],\n",
       "        ...,\n",
       "        [6.353730980902023, 1.30099781596117, 273.49],\n",
       "        [6.353730980902023, 1.30099781596117, 273.43],\n",
       "        [6.353730980902023, 1.30099781596117, 272.34]],\n",
       "\n",
       "       ...,\n",
       "\n",
       "       [[6.359224755791438, 1.2940810071180189, 283.59],\n",
       "        [6.359224755791438, 1.2940810071180189, 283.91],\n",
       "        [6.359224755791438, 1.2940810071180189, 283.47],\n",
       "        ...,\n",
       "        [6.359224755791438, 1.2940810071180189, 273.49],\n",
       "        [6.359224755791438, 1.2940810071180189, 273.43],\n",
       "        [6.359224755791438, 1.2940810071180189, 272.34]],\n",
       "\n",
       "       [[6.478708084004022, 1.4534500653125344, 283.59],\n",
       "        [6.478708084004022, 1.4534500653125344, 283.91],\n",
       "        [6.478708084004022, 1.4534500653125344, 283.47],\n",
       "        ...,\n",
       "        [6.478708084004022, 1.4534500653125344, 273.49],\n",
       "        [6.478708084004022, 1.4534500653125344, 273.43],\n",
       "        [6.478708084004022, 1.4534500653125344, 272.34]],\n",
       "\n",
       "       [[6.4706228337098555, 1.4602047230150865, 283.59],\n",
       "        [6.4706228337098555, 1.4602047230150865, 283.91],\n",
       "        [6.4706228337098555, 1.4602047230150865, 283.47],\n",
       "        ...,\n",
       "        [6.4706228337098555, 1.4602047230150865, 273.49],\n",
       "        [6.4706228337098555, 1.4602047230150865, 273.43],\n",
       "        [6.4706228337098555, 1.4602047230150865, 272.34]]], dtype=object)"
      ]
     },
     "execution_count": 19,
     "metadata": {},
     "output_type": "execute_result"
    }
   ],
   "source": [
    "manhattan_trip_data.trip_data[:,:,6:9]"
   ]
  }
 ],
 "metadata": {
  "kernelspec": {
   "display_name": "ML_GSP",
   "language": "python",
   "name": "python3"
  },
  "language_info": {
   "codemirror_mode": {
    "name": "ipython",
    "version": 3
   },
   "file_extension": ".py",
   "mimetype": "text/x-python",
   "name": "python",
   "nbconvert_exporter": "python",
   "pygments_lexer": "ipython3",
   "version": "3.12.4"
  }
 },
 "nbformat": 4,
 "nbformat_minor": 2
}
