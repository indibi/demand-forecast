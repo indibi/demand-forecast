{
  "cells": [
    {
      "cell_type": "markdown",
      "source": [
        "# Environment Setup\n"
      ],
      "metadata": {
        "id": "9xg9cSLjwXAW"
      }
    },
    {
      "cell_type": "code",
      "execution_count": null,
      "metadata": {
        "colab": {
          "base_uri": "https://localhost:8080/"
        },
        "id": "B2Dxm5ASr5h5",
        "outputId": "e15f1a47-a127-40b6-9c0d-8066655836bb"
      },
      "outputs": [
        {
          "output_type": "stream",
          "name": "stdout",
          "text": [
            "Running on TPU  \n",
            "Running on TPU, but 'worker' information not found in cluster spec.\n"
          ]
        }
      ],
      "source": [
        "# Check for TPU availability\n",
        "import tensorflow as tf\n",
        "\n",
        "try:\n",
        "    tpu = tf.distribute.cluster_resolver.TPUClusterResolver()  # TPUClusterResolver() automatically detects TPUs\n",
        "    print('Running on TPU ', tpu.master())\n",
        "except ValueError:\n",
        "    tpu = None\n",
        "\n",
        "if tpu:\n",
        "    tf.config.experimental_connect_to_cluster(tpu)\n",
        "    tf.tpu.experimental.initialize_tpu_system(tpu)\n",
        "    strategy = tf.distribute.TPUStrategy(tpu)\n",
        "    # Check if 'worker' key exists before accessing it\n",
        "    tpu_spec = tpu.cluster_spec().as_dict()\n",
        "    if 'worker' in tpu_spec:\n",
        "        print(\"Running on TPU:\", tpu_spec['worker'])\n",
        "    else:\n",
        "        print(\"Running on TPU, but 'worker' information not found in cluster spec.\")\n",
        "else:\n",
        "    print(\"TPU not found, using default strategy.\")\n",
        "    strategy = tf.distribute.get_strategy()"
      ]
    },
    {
      "cell_type": "markdown",
      "source": [
        "# Data Reading and Preprocessing"
      ],
      "metadata": {
        "id": "V-_qZg9dwe77"
      }
    },
    {
      "cell_type": "code",
      "execution_count": null,
      "metadata": {
        "colab": {
          "base_uri": "https://localhost:8080/",
          "height": 430
        },
        "id": "QiVmrKfodXfz",
        "outputId": "2d6d2876-aa3d-4300-c7bf-78ae4cf66c9f"
      },
      "outputs": [
        {
          "output_type": "error",
          "ename": "ValueError",
          "evalue": "mount failed",
          "traceback": [
            "\u001b[0;31m---------------------------------------------------------------------------\u001b[0m",
            "\u001b[0;31mValueError\u001b[0m                                Traceback (most recent call last)",
            "\u001b[0;32m<ipython-input-4-6bb049fc9bd9>\u001b[0m in \u001b[0;36m<cell line: 7>\u001b[0;34m()\u001b[0m\n\u001b[1;32m      5\u001b[0m \u001b[0;31m# Mount Google Drive if not already mounted\u001b[0m\u001b[0;34m\u001b[0m\u001b[0;34m\u001b[0m\u001b[0m\n\u001b[1;32m      6\u001b[0m \u001b[0;32mfrom\u001b[0m \u001b[0mgoogle\u001b[0m\u001b[0;34m.\u001b[0m\u001b[0mcolab\u001b[0m \u001b[0;32mimport\u001b[0m \u001b[0mdrive\u001b[0m\u001b[0;34m\u001b[0m\u001b[0;34m\u001b[0m\u001b[0m\n\u001b[0;32m----> 7\u001b[0;31m \u001b[0mdrive\u001b[0m\u001b[0;34m.\u001b[0m\u001b[0mmount\u001b[0m\u001b[0;34m(\u001b[0m\u001b[0;34m'/content/drive'\u001b[0m\u001b[0;34m)\u001b[0m\u001b[0;34m\u001b[0m\u001b[0;34m\u001b[0m\u001b[0m\n\u001b[0m\u001b[1;32m      8\u001b[0m \u001b[0;34m\u001b[0m\u001b[0m\n\u001b[1;32m      9\u001b[0m \u001b[0;31m# Define paths to parquet files\u001b[0m\u001b[0;34m\u001b[0m\u001b[0;34m\u001b[0m\u001b[0m\n",
            "\u001b[0;32m/usr/local/lib/python3.10/dist-packages/google/colab/drive.py\u001b[0m in \u001b[0;36mmount\u001b[0;34m(mountpoint, force_remount, timeout_ms, readonly)\u001b[0m\n\u001b[1;32m     98\u001b[0m \u001b[0;32mdef\u001b[0m \u001b[0mmount\u001b[0m\u001b[0;34m(\u001b[0m\u001b[0mmountpoint\u001b[0m\u001b[0;34m,\u001b[0m \u001b[0mforce_remount\u001b[0m\u001b[0;34m=\u001b[0m\u001b[0;32mFalse\u001b[0m\u001b[0;34m,\u001b[0m \u001b[0mtimeout_ms\u001b[0m\u001b[0;34m=\u001b[0m\u001b[0;36m120000\u001b[0m\u001b[0;34m,\u001b[0m \u001b[0mreadonly\u001b[0m\u001b[0;34m=\u001b[0m\u001b[0;32mFalse\u001b[0m\u001b[0;34m)\u001b[0m\u001b[0;34m:\u001b[0m\u001b[0;34m\u001b[0m\u001b[0;34m\u001b[0m\u001b[0m\n\u001b[1;32m     99\u001b[0m   \u001b[0;34m\"\"\"Mount your Google Drive at the specified mountpoint path.\"\"\"\u001b[0m\u001b[0;34m\u001b[0m\u001b[0;34m\u001b[0m\u001b[0m\n\u001b[0;32m--> 100\u001b[0;31m   return _mount(\n\u001b[0m\u001b[1;32m    101\u001b[0m       \u001b[0mmountpoint\u001b[0m\u001b[0;34m,\u001b[0m\u001b[0;34m\u001b[0m\u001b[0;34m\u001b[0m\u001b[0m\n\u001b[1;32m    102\u001b[0m       \u001b[0mforce_remount\u001b[0m\u001b[0;34m=\u001b[0m\u001b[0mforce_remount\u001b[0m\u001b[0;34m,\u001b[0m\u001b[0;34m\u001b[0m\u001b[0;34m\u001b[0m\u001b[0m\n",
            "\u001b[0;32m/usr/local/lib/python3.10/dist-packages/google/colab/drive.py\u001b[0m in \u001b[0;36m_mount\u001b[0;34m(mountpoint, force_remount, timeout_ms, ephemeral, readonly)\u001b[0m\n\u001b[1;32m    275\u001b[0m             \u001b[0;34m'https://research.google.com/colaboratory/faq.html#drive-timeout'\u001b[0m\u001b[0;34m\u001b[0m\u001b[0;34m\u001b[0m\u001b[0m\n\u001b[1;32m    276\u001b[0m         )\n\u001b[0;32m--> 277\u001b[0;31m       \u001b[0;32mraise\u001b[0m \u001b[0mValueError\u001b[0m\u001b[0;34m(\u001b[0m\u001b[0;34m'mount failed'\u001b[0m \u001b[0;34m+\u001b[0m \u001b[0mextra_reason\u001b[0m\u001b[0;34m)\u001b[0m\u001b[0;34m\u001b[0m\u001b[0;34m\u001b[0m\u001b[0m\n\u001b[0m\u001b[1;32m    278\u001b[0m     \u001b[0;32melif\u001b[0m \u001b[0mcase\u001b[0m \u001b[0;34m==\u001b[0m \u001b[0;36m4\u001b[0m\u001b[0;34m:\u001b[0m\u001b[0;34m\u001b[0m\u001b[0;34m\u001b[0m\u001b[0m\n\u001b[1;32m    279\u001b[0m       \u001b[0;31m# Terminate the DriveFS binary before killing bash.\u001b[0m\u001b[0;34m\u001b[0m\u001b[0;34m\u001b[0m\u001b[0m\n",
            "\u001b[0;31mValueError\u001b[0m: mount failed"
          ]
        }
      ],
      "source": [
        "import pandas as pd\n",
        "\n",
        "# Mount Google Drive if not already mounted\n",
        "from google.colab import drive\n",
        "drive.mount('/content/drive')\n",
        "\n",
        "# Define paths to parquet files\n",
        "train_path = '/content/drive/MyDrive/fhvhv_2022-09_2023-08_h.parquet'  # Use wildcard to match multiple files if needed\n",
        "test_path = '/content/drive/MyDrive/fhvhv_2023-09_2024-08_h.parquet'\n",
        "val_path = '/content/drive/MyDrive/fhvhv_2021-09_2022-08_h.parquet'\n",
        "\n",
        "# Read parquet files into pandas DataFrames\n",
        "try:\n",
        "  train_df = pd.read_parquet(train_path)\n",
        "  test_df = pd.read_parquet(test_path)\n",
        "  val_df = pd.read_parquet(val_path)\n",
        "\n",
        "  print(\"Successfully read parquet files into DataFrames.\")\n",
        "\n",
        "  print(\"Train DataFrame shape:\", train_df.shape)\n",
        "  print(\"Test DataFrame shape:\", test_df.shape)\n",
        "  print(\"Validation DataFrame shape:\", val_df.shape)\n",
        "\n",
        "except FileNotFoundError:\n",
        "  print(f\"Error: One or more parquet files not found. Check file paths: {train_path}, {test_path}, {val_path}\")\n",
        "except Exception as e:\n",
        "  print(f\"An error occurred: {e}\")"
      ]
    },
    {
      "cell_type": "markdown",
      "source": [
        "# Data Preparation for LSTM without weather features"
      ],
      "metadata": {
        "id": "MQobuW7DwlHF"
      }
    },
    {
      "cell_type": "code",
      "execution_count": null,
      "metadata": {
        "id": "jsdZrBdAO5zY",
        "colab": {
          "base_uri": "https://localhost:8080/"
        },
        "outputId": "706e4edb-4218-4b8f-bf80-db2de064d10e"
      },
      "outputs": [
        {
          "output_type": "stream",
          "name": "stdout",
          "text": [
            "[0. 0. 0. 0. 0. 0. 0. 0. 0. 0.]\n",
            "[array([0., 0., 0., 0., 0., 0., 0., 0., 0., 0.])]\n",
            "[0. 0. 0. 0. 0. 0. 0. 0. 0. 0.]\n",
            "[array([0., 0., 0., 0., 0., 0., 0., 0., 0., 0.])]\n",
            "[0.         0.00052493 0.         0.         0.         0.\n",
            " 0.         0.         0.         0.        ]\n",
            "[array([0.        , 0.00052493, 0.        , 0.        , 0.        ,\n",
            "       0.        , 0.        , 0.        , 0.        , 0.        ])]\n"
          ]
        }
      ],
      "source": [
        "import tensorflow as tf\n",
        "import pandas as pd\n",
        "import numpy as np\n",
        "from sklearn.preprocessing import MinMaxScaler\n",
        "\n",
        "# Assuming your data is already loaded into train_df, test_df, and val_df\n",
        "\n",
        "# Preprocess the data\n",
        "def preprocess_data(df, target_column='PU_count'):\n",
        "    # Select relevant columns and handle missing values (replace with mean for simplicity)\n",
        "    df = df[['PU_count']]\n",
        "    df = df.fillna(df.mean())\n",
        "\n",
        "    # Normalize the data using MinMaxScaler\n",
        "    scaler = MinMaxScaler()\n",
        "    data = scaler.fit_transform(df)\n",
        "\n",
        "    return data, scaler\n",
        "\n",
        "# Prepare data for LSTM\n",
        "def create_dataset(dataset, look_back=4):\n",
        "    X, Y = [], []\n",
        "    for i in range(len(dataset) - look_back - 1):\n",
        "        a = dataset[i:(i + look_back), 0]\n",
        "        print(a)\n",
        "        X.append(a)\n",
        "        print(X)\n",
        "        Y.append(dataset[i + look_back, 0])\n",
        "        break\n",
        "    return np.array(X), np.array(Y)\n",
        "\n",
        "# Preprocess and create datasets\n",
        "train_data, train_scaler = preprocess_data(train_df)\n",
        "test_data, test_scaler = preprocess_data(test_df)\n",
        "val_data, val_scaler = preprocess_data(val_df)\n",
        "\n",
        "look_back = 10 # Example lookback period\n",
        "X_train, y_train = create_dataset(train_data, look_back)\n",
        "X_test, y_test = create_dataset(test_data, look_back)\n",
        "X_val, y_val = create_dataset(val_data, look_back)\n",
        "\n",
        "# Reshape input to be [samples, time steps, features] which is required for LSTM\n",
        "X_train = np.reshape(X_train, (X_train.shape[0], X_train.shape[1], 1))\n",
        "X_test = np.reshape(X_test, (X_test.shape[0], X_test.shape[1], 1))\n",
        "X_val = np.reshape(X_val, (X_val.shape[0], X_val.shape[1], 1))"
      ]
    },
    {
      "cell_type": "markdown",
      "source": [
        "# LSTM Model without weather features"
      ],
      "metadata": {
        "id": "4efmTnRJwvzC"
      }
    },
    {
      "cell_type": "code",
      "execution_count": null,
      "metadata": {
        "colab": {
          "base_uri": "https://localhost:8080/",
          "height": 277
        },
        "id": "tte2l-zbPGL2",
        "outputId": "2a2b2671-2f54-4691-e19f-2b4d269669cb"
      },
      "outputs": [
        {
          "output_type": "error",
          "ename": "NameError",
          "evalue": "name 'strategy' is not defined",
          "traceback": [
            "\u001b[0;31m---------------------------------------------------------------------------\u001b[0m",
            "\u001b[0;31mNameError\u001b[0m                                 Traceback (most recent call last)",
            "\u001b[0;32m<ipython-input-1-7d57c53228a1>\u001b[0m in \u001b[0;36m<cell line: 2>\u001b[0;34m()\u001b[0m\n\u001b[1;32m      1\u001b[0m \u001b[0;31m# Build the LSTM model with TPU strategy\u001b[0m\u001b[0;34m\u001b[0m\u001b[0;34m\u001b[0m\u001b[0m\n\u001b[0;32m----> 2\u001b[0;31m \u001b[0;32mwith\u001b[0m \u001b[0mstrategy\u001b[0m\u001b[0;34m.\u001b[0m\u001b[0mscope\u001b[0m\u001b[0;34m(\u001b[0m\u001b[0;34m)\u001b[0m\u001b[0;34m:\u001b[0m  \u001b[0;31m# Wrap model creation within TPU strategy scope\u001b[0m\u001b[0;34m\u001b[0m\u001b[0;34m\u001b[0m\u001b[0m\n\u001b[0m\u001b[1;32m      3\u001b[0m     \u001b[0mmodel\u001b[0m \u001b[0;34m=\u001b[0m \u001b[0mtf\u001b[0m\u001b[0;34m.\u001b[0m\u001b[0mkeras\u001b[0m\u001b[0;34m.\u001b[0m\u001b[0mmodels\u001b[0m\u001b[0;34m.\u001b[0m\u001b[0mSequential\u001b[0m\u001b[0;34m(\u001b[0m\u001b[0;34m)\u001b[0m\u001b[0;34m\u001b[0m\u001b[0;34m\u001b[0m\u001b[0m\n\u001b[1;32m      4\u001b[0m     \u001b[0mmodel\u001b[0m\u001b[0;34m.\u001b[0m\u001b[0madd\u001b[0m\u001b[0;34m(\u001b[0m\u001b[0mtf\u001b[0m\u001b[0;34m.\u001b[0m\u001b[0mkeras\u001b[0m\u001b[0;34m.\u001b[0m\u001b[0mlayers\u001b[0m\u001b[0;34m.\u001b[0m\u001b[0mLSTM\u001b[0m\u001b[0;34m(\u001b[0m\u001b[0munits\u001b[0m\u001b[0;34m=\u001b[0m\u001b[0;36m50\u001b[0m\u001b[0;34m,\u001b[0m \u001b[0mreturn_sequences\u001b[0m\u001b[0;34m=\u001b[0m\u001b[0;32mTrue\u001b[0m\u001b[0;34m,\u001b[0m \u001b[0minput_shape\u001b[0m\u001b[0;34m=\u001b[0m\u001b[0;34m(\u001b[0m\u001b[0mX_train\u001b[0m\u001b[0;34m.\u001b[0m\u001b[0mshape\u001b[0m\u001b[0;34m[\u001b[0m\u001b[0;36m1\u001b[0m\u001b[0;34m]\u001b[0m\u001b[0;34m,\u001b[0m \u001b[0;36m1\u001b[0m\u001b[0;34m)\u001b[0m\u001b[0;34m)\u001b[0m\u001b[0;34m)\u001b[0m\u001b[0;34m\u001b[0m\u001b[0;34m\u001b[0m\u001b[0m\n\u001b[1;32m      5\u001b[0m     \u001b[0mmodel\u001b[0m\u001b[0;34m.\u001b[0m\u001b[0madd\u001b[0m\u001b[0;34m(\u001b[0m\u001b[0mtf\u001b[0m\u001b[0;34m.\u001b[0m\u001b[0mkeras\u001b[0m\u001b[0;34m.\u001b[0m\u001b[0mlayers\u001b[0m\u001b[0;34m.\u001b[0m\u001b[0mLSTM\u001b[0m\u001b[0;34m(\u001b[0m\u001b[0munits\u001b[0m\u001b[0;34m=\u001b[0m\u001b[0;36m50\u001b[0m\u001b[0;34m)\u001b[0m\u001b[0;34m)\u001b[0m\u001b[0;34m\u001b[0m\u001b[0;34m\u001b[0m\u001b[0m\n",
            "\u001b[0;31mNameError\u001b[0m: name 'strategy' is not defined"
          ]
        }
      ],
      "source": [
        "# Build the LSTM model with TPU strategy\n",
        "with strategy.scope():\n",
        "    model = tf.keras.models.Sequential()\n",
        "    model.add(tf.keras.layers.LSTM(units=50, return_sequences=True, input_shape=(X_train.shape[1], 1)))\n",
        "    model.add(tf.keras.layers.LSTM(units=50))\n",
        "    model.add(tf.keras.layers.Dense(units=1))\n",
        "\n",
        "    # Compile the model\n",
        "    model.compile(optimizer='adam', loss='mean_squared_error')\n",
        "\n",
        "#Train the model\n",
        "model.fit(X_train, y_train, epochs=1, batch_size=32, validation_data=(X_val, y_val))\n",
        "# Save the entire model as a `.keras` zip archive.\n",
        "model.save('/content/drive/MyDrive/lstm_no_weather.keras')"
      ]
    },
    {
      "cell_type": "markdown",
      "source": [
        "## Evaluation"
      ],
      "metadata": {
        "id": "cnoOYbxixFH2"
      }
    },
    {
      "cell_type": "code",
      "execution_count": null,
      "metadata": {
        "colab": {
          "background_save": true
        },
        "outputId": "5d08a546-1202-42cf-d412-9a6b91a2b2f8",
        "id": "z2KrDwUWxDuJ"
      },
      "outputs": [
        {
          "name": "stdout",
          "output_type": "stream",
          "text": [
            "71996/71996 [==============================] - 574s 8ms/step\n"
          ]
        }
      ],
      "source": [
        "# Make predictions\n",
        "#train_predict = model.predict(X_train)\n",
        "test_predict = model.predict(X_test)\n",
        "val_predict = model.predict(X_val)\n",
        "\n",
        "# Invert predictions back to original scale\n",
        "#train_predict = train_scaler.inverse_transform(train_predict)\n",
        "#y_train = train_scaler.inverse_transform([y_train])\n",
        "test_predict = test_scaler.inverse_transform(test_predict)\n",
        "y_test = test_scaler.inverse_transform([y_test])\n",
        "val_predict = val_scaler.inverse_transform(val_predict)\n",
        "y_val = val_scaler.inverse_transform([y_val])\n",
        "\n",
        "from sklearn.metrics import mean_squared_error\n",
        "\n",
        "# Calculate MSE for train and test predictions\n",
        "train_mse = mean_squared_error(y_train[0], train_predict)\n",
        "test_mse = mean_squared_error(y_test[0], test_predict)\n",
        "validation_mse = mean_squared_error(y_val[0], val_predict)\n",
        "print(f'Train MSE: {train_mse}')\n",
        "print(f'Test MSE: {test_mse}')\n",
        "print(f'Validation MSE: {validation_mse}')"
      ]
    },
    {
      "cell_type": "markdown",
      "source": [
        "## Plotting"
      ],
      "metadata": {
        "id": "gV6foEshxOpc"
      }
    },
    {
      "cell_type": "code",
      "execution_count": null,
      "metadata": {
        "colab": {
          "background_save": true
        },
        "outputId": "ac6b9674-9efb-4122-b067-c0d9c4351f44",
        "id": "jWZYnx1SxN6H"
      },
      "outputs": [
        {
          "ename": "NameError",
          "evalue": "name 'test_predict' is not defined",
          "output_type": "error",
          "traceback": [
            "\u001b[0;31m---------------------------------------------------------------------------\u001b[0m",
            "\u001b[0;31mNameError\u001b[0m                                 Traceback (most recent call last)",
            "\u001b[0;32m<ipython-input-8-bc875fad6aa4>\u001b[0m in \u001b[0;36m<cell line: 8>\u001b[0;34m()\u001b[0m\n\u001b[1;32m      6\u001b[0m \u001b[0mplt\u001b[0m\u001b[0;34m.\u001b[0m\u001b[0mfigure\u001b[0m\u001b[0;34m(\u001b[0m\u001b[0mfigsize\u001b[0m\u001b[0;34m=\u001b[0m\u001b[0;34m(\u001b[0m\u001b[0;36m10\u001b[0m\u001b[0;34m,\u001b[0m \u001b[0;36m6\u001b[0m\u001b[0;34m)\u001b[0m\u001b[0;34m)\u001b[0m\u001b[0;34m\u001b[0m\u001b[0;34m\u001b[0m\u001b[0m\n\u001b[1;32m      7\u001b[0m \u001b[0mplt\u001b[0m\u001b[0;34m.\u001b[0m\u001b[0mplot\u001b[0m\u001b[0;34m(\u001b[0m\u001b[0my_test\u001b[0m\u001b[0;34m[\u001b[0m\u001b[0;36m0\u001b[0m\u001b[0;34m]\u001b[0m\u001b[0;34m,\u001b[0m \u001b[0mlabel\u001b[0m\u001b[0;34m=\u001b[0m\u001b[0;34m'Actual'\u001b[0m\u001b[0;34m)\u001b[0m\u001b[0;34m\u001b[0m\u001b[0;34m\u001b[0m\u001b[0m\n\u001b[0;32m----> 8\u001b[0;31m \u001b[0mplt\u001b[0m\u001b[0;34m.\u001b[0m\u001b[0mplot\u001b[0m\u001b[0;34m(\u001b[0m\u001b[0mtest_predict\u001b[0m\u001b[0;34m,\u001b[0m \u001b[0mlabel\u001b[0m\u001b[0;34m=\u001b[0m\u001b[0;34m'Predicted'\u001b[0m\u001b[0;34m)\u001b[0m\u001b[0;34m\u001b[0m\u001b[0;34m\u001b[0m\u001b[0m\n\u001b[0m\u001b[1;32m      9\u001b[0m \u001b[0mplt\u001b[0m\u001b[0;34m.\u001b[0m\u001b[0mlegend\u001b[0m\u001b[0;34m(\u001b[0m\u001b[0;34m)\u001b[0m\u001b[0;34m\u001b[0m\u001b[0;34m\u001b[0m\u001b[0m\n\u001b[1;32m     10\u001b[0m \u001b[0mplt\u001b[0m\u001b[0;34m.\u001b[0m\u001b[0mtitle\u001b[0m\u001b[0;34m(\u001b[0m\u001b[0;34m'Test Predictions vs Actual Values'\u001b[0m\u001b[0;34m)\u001b[0m\u001b[0;34m\u001b[0m\u001b[0;34m\u001b[0m\u001b[0m\n",
            "\u001b[0;31mNameError\u001b[0m: name 'test_predict' is not defined"
          ]
        },
        {
          "data": {
            "image/png": "[encoded data removed]",
            "text/plain": [
              "<Figure size 1000x600 with 1 Axes>"
            ]
          },
          "metadata": {},
          "output_type": "display_data"
        }
      ],
      "source": [
        "import matplotlib.pyplot as plt\n",
        "\n",
        "# Plot predictions vs actual values\n",
        "plt.figure(figsize=(10, 6))\n",
        "plt.plot(y_test[0], label='Actual')\n",
        "plt.plot(test_predict, label='Predicted')\n",
        "plt.legend()\n",
        "plt.title('Test Predictions vs Actual Values')\n",
        "plt.xlabel('Time Step')\n",
        "plt.ylabel('PU_count')\n",
        "plt.show()"
      ]
    },
    {
      "cell_type": "markdown",
      "source": [
        "#Data Preparation and Preprocessing for Model that includes Weather features"
      ],
      "metadata": {
        "id": "X-uB27UtwyiW"
      }
    },
    {
      "cell_type": "code",
      "source": [
        "# Preprocess the data\n",
        "def preprocess_data(df):\n",
        "    # Select all features from the dataframe\n",
        "    # Handle missing values (replace with mean for simplicity)\n",
        "    df = df.fillna(df.mean())\n",
        "\n",
        "    # Normalize the data using MinMaxScaler\n",
        "    scaler = MinMaxScaler()\n",
        "    data = scaler.fit_transform(df)\n",
        "\n",
        "    return data, scaler\n",
        "\n",
        "# Prepare data for LSTM\n",
        "def create_dataset(dataset, look_back=4):\n",
        "    X, Y = [], []\n",
        "    for i in range(len(dataset) - look_back - 1):\n",
        "        a = dataset[i:(i + look_back), :] # Selecting all features\n",
        "        X.append(a)\n",
        "        Y.append(dataset[i + look_back, 0]) # Assuming the first column is the target\n",
        "        # Remove break to process entire dataset\n",
        "    return np.array(X), np.array(Y)\n",
        "\n",
        "# Preprocess and create datasets\n",
        "train_data, train_scaler = preprocess_data(train_df)\n",
        "test_data, test_scaler = preprocess_data(test_df)\n",
        "val_data, val_scaler = preprocess_data(val_df)\n",
        "\n",
        "look_back = 10 # Example lookback period\n",
        "X_train, y_train = create_dataset(train_data, look_back)\n",
        "X_test, y_test = create_dataset(test_data, look_back)\n",
        "X_val, y_val = create_dataset(val_data, look_back)\n",
        "\n",
        "# Reshape input to be [samples, time steps, features] which is required for LSTM\n",
        "# Get the number of features from the preprocessed data\n",
        "n_features = X_train.shape[2]"
      ],
      "metadata": {
        "id": "_3TDH0e5UTcq"
      },
      "execution_count": null,
      "outputs": []
    },
    {
      "cell_type": "markdown",
      "source": [
        "# Train LSTM Model with weather features"
      ],
      "metadata": {
        "id": "InxLgNMvxsYK"
      }
    },
    {
      "cell_type": "code",
      "source": [
        "# Build the LSTM model with TPU strategy\n",
        "with strategy.scope():  # Wrap model creation within TPU strategy scope\n",
        "    model = tf.keras.models.Sequential()\n",
        "    model.add(tf.keras.layers.LSTM(units=50, return_sequences=True, input_shape=(X_train.shape[1], n_features)))\n",
        "    model.add(tf.keras.layers.LSTM(units=50))\n",
        "    model.add(tf.keras.layers.Dense(units=1))\n",
        "\n",
        "    # Compile the model\n",
        "    model.compile(optimizer='adam', loss='mean_squared_error')\n",
        "\n",
        "#Train the model (no changes needed here)\n",
        "model.fit(X_train, y_train, epochs=1, batch_size=32, validation_data=(X_val, y_val))  # Adjust epochs and batch_size as needed\n",
        "# Save the entire model as a `.keras` zip archive.\n",
        "model.save('/content/drive/MyDrive/lstm_weather.keras')"
      ],
      "metadata": {
        "id": "wWfqe8D8xp1y"
      },
      "execution_count": null,
      "outputs": []
    },
    {
      "cell_type": "markdown",
      "source": [
        "## Evaluation"
      ],
      "metadata": {
        "id": "asmLs-m0x5xK"
      }
    },
    {
      "cell_type": "code",
      "execution_count": null,
      "metadata": {
        "colab": {
          "background_save": true
        },
        "id": "O1ihH7moPJS8",
        "outputId": "5d08a546-1202-42cf-d412-9a6b91a2b2f8"
      },
      "outputs": [
        {
          "name": "stdout",
          "output_type": "stream",
          "text": [
            "71996/71996 [==============================] - 574s 8ms/step\n"
          ]
        }
      ],
      "source": [
        "# Make predictions\n",
        "#train_predict = model.predict(X_train)\n",
        "test_predict = model.predict(X_test)\n",
        "val_predict = model.predict(X_val)\n",
        "\n",
        "# Invert predictions back to original scale\n",
        "#train_predict = train_scaler.inverse_transform(train_predict)\n",
        "#y_train = train_scaler.inverse_transform([y_train])\n",
        "test_predict = test_scaler.inverse_transform(test_predict)\n",
        "y_test = test_scaler.inverse_transform([y_test])\n",
        "val_predict = val_scaler.inverse_transform(val_predict)\n",
        "y_val = val_scaler.inverse_transform([y_val])\n",
        "\n",
        "from sklearn.metrics import mean_squared_error\n",
        "\n",
        "# Calculate MSE for train and test predictions\n",
        "train_mse = mean_squared_error(y_train[0], train_predict)\n",
        "test_mse = mean_squared_error(y_test[0], test_predict)\n",
        "validation_mse = mean_squared_error(y_val[0], val_predict)\n",
        "print(f'Train MSE: {train_mse}')\n",
        "print(f'Test MSE: {test_mse}')\n",
        "print(f'Validation MSE: {validation_mse}')"
      ]
    },
    {
      "cell_type": "markdown",
      "source": [
        "## Plotting"
      ],
      "metadata": {
        "id": "q4N3dt8jx8z_"
      }
    },
    {
      "cell_type": "code",
      "execution_count": null,
      "metadata": {
        "colab": {
          "background_save": true
        },
        "id": "YiXdi7nJPYAh",
        "outputId": "ac6b9674-9efb-4122-b067-c0d9c4351f44"
      },
      "outputs": [
        {
          "ename": "NameError",
          "evalue": "name 'test_predict' is not defined",
          "output_type": "error",
          "traceback": [
            "\u001b[0;31m---------------------------------------------------------------------------\u001b[0m",
            "\u001b[0;31mNameError\u001b[0m                                 Traceback (most recent call last)",
            "\u001b[0;32m<ipython-input-8-bc875fad6aa4>\u001b[0m in \u001b[0;36m<cell line: 8>\u001b[0;34m()\u001b[0m\n\u001b[1;32m      6\u001b[0m \u001b[0mplt\u001b[0m\u001b[0;34m.\u001b[0m\u001b[0mfigure\u001b[0m\u001b[0;34m(\u001b[0m\u001b[0mfigsize\u001b[0m\u001b[0;34m=\u001b[0m\u001b[0;34m(\u001b[0m\u001b[0;36m10\u001b[0m\u001b[0;34m,\u001b[0m \u001b[0;36m6\u001b[0m\u001b[0;34m)\u001b[0m\u001b[0;34m)\u001b[0m\u001b[0;34m\u001b[0m\u001b[0;34m\u001b[0m\u001b[0m\n\u001b[1;32m      7\u001b[0m \u001b[0mplt\u001b[0m\u001b[0;34m.\u001b[0m\u001b[0mplot\u001b[0m\u001b[0;34m(\u001b[0m\u001b[0my_test\u001b[0m\u001b[0;34m[\u001b[0m\u001b[0;36m0\u001b[0m\u001b[0;34m]\u001b[0m\u001b[0;34m,\u001b[0m \u001b[0mlabel\u001b[0m\u001b[0;34m=\u001b[0m\u001b[0;34m'Actual'\u001b[0m\u001b[0;34m)\u001b[0m\u001b[0;34m\u001b[0m\u001b[0;34m\u001b[0m\u001b[0m\n\u001b[0;32m----> 8\u001b[0;31m \u001b[0mplt\u001b[0m\u001b[0;34m.\u001b[0m\u001b[0mplot\u001b[0m\u001b[0;34m(\u001b[0m\u001b[0mtest_predict\u001b[0m\u001b[0;34m,\u001b[0m \u001b[0mlabel\u001b[0m\u001b[0;34m=\u001b[0m\u001b[0;34m'Predicted'\u001b[0m\u001b[0;34m)\u001b[0m\u001b[0;34m\u001b[0m\u001b[0;34m\u001b[0m\u001b[0m\n\u001b[0m\u001b[1;32m      9\u001b[0m \u001b[0mplt\u001b[0m\u001b[0;34m.\u001b[0m\u001b[0mlegend\u001b[0m\u001b[0;34m(\u001b[0m\u001b[0;34m)\u001b[0m\u001b[0;34m\u001b[0m\u001b[0;34m\u001b[0m\u001b[0m\n\u001b[1;32m     10\u001b[0m \u001b[0mplt\u001b[0m\u001b[0;34m.\u001b[0m\u001b[0mtitle\u001b[0m\u001b[0;34m(\u001b[0m\u001b[0;34m'Test Predictions vs Actual Values'\u001b[0m\u001b[0;34m)\u001b[0m\u001b[0;34m\u001b[0m\u001b[0;34m\u001b[0m\u001b[0m\n",
            "\u001b[0;31mNameError\u001b[0m: name 'test_predict' is not defined"
          ]
        },
        {
          "data": {
            "image/png": "[encoded data removed]",
            "text/plain": [
              "<Figure size 1000x600 with 1 Axes>"
            ]
          },
          "metadata": {},
          "output_type": "display_data"
        }
      ],
      "source": [
        "import matplotlib.pyplot as plt\n",
        "\n",
        "# Plot predictions vs actual values\n",
        "plt.figure(figsize=(10, 6))\n",
        "plt.plot(y_test[0], label='Actual')\n",
        "plt.plot(test_predict, label='Predicted')\n",
        "plt.legend()\n",
        "plt.title('Test Predictions vs Actual Values')\n",
        "plt.xlabel('Time Step')\n",
        "plt.ylabel('PU_count')\n",
        "plt.show()"
      ]
    }
  ],
  "metadata": {
    "accelerator": "TPU",
    "colab": {
      "gpuType": "V28",
      "machine_shape": "hm",
      "provenance": [],
      "collapsed_sections": [
        "9xg9cSLjwXAW",
        "V-_qZg9dwe77",
        "MQobuW7DwlHF",
        "4efmTnRJwvzC",
        "cnoOYbxixFH2",
        "gV6foEshxOpc",
        "X-uB27UtwyiW",
        "InxLgNMvxsYK"
      ],
      "mount_file_id": "13dOE-HZcCjd84j9ncfVZ-pMbX1sIsbxZ",
      "authorship_tag": "ABX9TyMwXoUfGBFJdWoZVZUgXHnJ"
    },
    "kernelspec": {
      "display_name": "Python 3",
      "name": "python3"
    },
    "language_info": {
      "name": "python"
    }
  },
  "nbformat": 4,
  "nbformat_minor": 0
}
