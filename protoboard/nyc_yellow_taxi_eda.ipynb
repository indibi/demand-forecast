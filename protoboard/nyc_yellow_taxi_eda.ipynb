{
 "cells": [
  {
   "cell_type": "code",
   "execution_count": 1,
   "metadata": {},
   "outputs": [],
   "source": [
    "import os, sys\n",
    "module_path = os.path.abspath(os.path.join('..'))\n",
    "# dataset_path = \n",
    "if module_path not in sys.path:\n",
    "    sys.path.append(module_path)\n",
    "    \n",
    "import numpy as np\n",
    "import pandas as pd\n",
    "\n",
    "import matplotlib.pyplot as plt"
   ]
  },
  {
   "cell_type": "code",
   "execution_count": 2,
   "metadata": {},
   "outputs": [],
   "source": [
    "dates = pd.date_range('2023-01-01', '2023-12-01', freq='MS')\n",
    "months = [date.strftime('%Y-%m') for date in dates]\n",
    "monthly_record_names = [f'yellow_tripdata_{month}.parquet' for month in months]\n",
    "trip_datas = [pd.read_parquet(os.path.abspath(os.path.join('..','datasets','yellow_taxi_trip_records','year_2023',name))) for name in monthly_record_names]"
   ]
  },
  {
   "cell_type": "code",
   "execution_count": 3,
   "metadata": {},
   "outputs": [
    {
     "name": "stdout",
     "output_type": "stream",
     "text": [
      "<class 'pandas.core.frame.DataFrame'>\n",
      "RangeIndex: 3066766 entries, 0 to 3066765\n",
      "Data columns (total 19 columns):\n",
      " #   Column                 Dtype         \n",
      "---  ------                 -----         \n",
      " 0   VendorID               int64         \n",
      " 1   tpep_pickup_datetime   datetime64[us]\n",
      " 2   tpep_dropoff_datetime  datetime64[us]\n",
      " 3   passenger_count        float64       \n",
      " 4   trip_distance          float64       \n",
      " 5   RatecodeID             float64       \n",
      " 6   store_and_fwd_flag     object        \n",
      " 7   PULocationID           int64         \n",
      " 8   DOLocationID           int64         \n",
      " 9   payment_type           int64         \n",
      " 10  fare_amount            float64       \n",
      " 11  extra                  float64       \n",
      " 12  mta_tax                float64       \n",
      " 13  tip_amount             float64       \n",
      " 14  tolls_amount           float64       \n",
      " 15  improvement_surcharge  float64       \n",
      " 16  total_amount           float64       \n",
      " 17  congestion_surcharge   float64       \n",
      " 18  airport_fee            float64       \n",
      "dtypes: datetime64[us](2), float64(12), int64(4), object(1)\n",
      "memory usage: 444.6+ MB\n"
     ]
    }
   ],
   "source": [
    "trip_datas[0].head()\n",
    "trip_datas[0].info()"
   ]
  },
  {
   "cell_type": "code",
   "execution_count": 15,
   "metadata": {},
   "outputs": [
    {
     "name": "stderr",
     "output_type": "stream",
     "text": [
      "C:\\Users\\merti\\AppData\\Local\\Temp\\ipykernel_33280\\808837935.py:7: FutureWarning: 'H' is deprecated and will be removed in a future version, please use 'h' instead.\n",
      "  valid_jan_trip_counts = valid_january_trips[['tpep_pickup_datetime', 'PULocationID']].resample('H', on='tpep_pickup_datetime')['PULocationID'].value_counts()\n"
     ]
    },
    {
     "data": {
      "text/plain": [
       "MultiIndex([('2023-01-01 00:00:00',  79),\n",
       "            ('2023-01-01 00:00:00', 132),\n",
       "            ('2023-01-01 00:00:00', 237),\n",
       "            ('2023-01-01 00:00:00', 263),\n",
       "            ('2023-01-01 00:00:00', 142),\n",
       "            ('2023-01-01 00:00:00', 161),\n",
       "            ('2023-01-01 00:00:00', 141),\n",
       "            ('2023-01-01 00:00:00', 170),\n",
       "            ('2023-01-01 00:00:00', 107),\n",
       "            ('2023-01-01 00:00:00', 239),\n",
       "            ...\n",
       "            ('2023-01-31 23:00:00', 228),\n",
       "            ('2023-01-31 23:00:00', 242),\n",
       "            ('2023-02-01 00:00:00', 230),\n",
       "            ('2023-02-01 00:00:00',  68),\n",
       "            ('2023-02-01 00:00:00',  70),\n",
       "            ('2023-02-01 00:00:00', 132),\n",
       "            ('2023-02-01 00:00:00', 137),\n",
       "            ('2023-02-01 00:00:00', 162),\n",
       "            ('2023-02-01 00:00:00', 211),\n",
       "            ('2023-02-01 00:00:00', 246)],\n",
       "           names=['tpep_pickup_datetime', 'PULocationID'], length=71499)"
      ]
     },
     "execution_count": 15,
     "metadata": {},
     "output_type": "execute_result"
    }
   ],
   "source": [
    "january_trips = trip_datas[0]\n",
    "\n",
    "invalid_rows = january_trips['tpep_pickup_datetime'] < '2023-01-01 00:00:00'\n",
    "# invalid_rows.append_row(/ january_trips['tpep_pickup_datetime'] >= '2024-02-01 00:00:00'\n",
    "valid_january_trips = january_trips[~invalid_rows]\n",
    "# valid_january_trips.groupby('PULocationID')\n",
    "valid_jan_trip_counts = valid_january_trips[['tpep_pickup_datetime', 'PULocationID']].resample('H', on='tpep_pickup_datetime')['PULocationID'].value_counts()\n",
    "valid_jan_trip_counts.index\n"
   ]
  },
  {
   "cell_type": "markdown",
   "metadata": {},
   "source": [
    "| Zone | Hour | Day | Temperature | Wind | Humidity | Air quality | Demand |\n",
    "| -- | -- | -- | -- | -- | -- | -- | -- |"
   ]
  },
  {
   "cell_type": "code",
   "execution_count": null,
   "metadata": {},
   "outputs": [],
   "source": []
  }
 ],
 "metadata": {
  "kernelspec": {
   "display_name": "ML_GSP",
   "language": "python",
   "name": "python3"
  },
  "language_info": {
   "codemirror_mode": {
    "name": "ipython",
    "version": 3
   },
   "file_extension": ".py",
   "mimetype": "text/x-python",
   "name": "python",
   "nbconvert_exporter": "python",
   "pygments_lexer": "ipython3",
   "version": "3.12.4"
  }
 },
 "nbformat": 4,
 "nbformat_minor": 2
}
